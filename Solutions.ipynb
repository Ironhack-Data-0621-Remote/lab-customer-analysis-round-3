{
 "cells": [
  {
   "cell_type": "markdown",
   "id": "1e3a2ba8",
   "metadata": {},
   "source": [
    "# Lab | Customer Analysis Round 3"
   ]
  },
  {
   "cell_type": "markdown",
   "id": "250880c1",
   "metadata": {},
   "source": [
    "For this lab, we still keep using the `marketing_customer_analysis.csv` file. You can find the file in the `files_for_lab` folder.\n",
    "\n",
    "### Get the data\n",
    "\n",
    "- Use the same jupyter file from the last lab, `Customer Analysis Round 3`\n",
    "\n",
    "### EDA (Exploratory Data Analysis) - Complete the following tasks to explore the data:\n",
    "\n",
    "\n"
   ]
  },
  {
   "cell_type": "markdown",
   "id": "45380e43",
   "metadata": {},
   "source": [
    "## 1. Show DataFrame info.\n"
   ]
  },
  {
   "cell_type": "code",
   "execution_count": null,
   "id": "999a8269",
   "metadata": {},
   "outputs": [],
   "source": [
    "import pandas as pd\n",
    "import numpy as np\n",
    "import matplotlib.pyplot as plt\n",
    "import seaborn as sns\n",
    "import scipy.stats as stats\n",
    "\n",
    "data = pd.read_csv('files_for_lab/csv_files/marketing_customer_analysis_clean.csv', index_col=0)\n",
    "data.info"
   ]
  },
  {
   "cell_type": "markdown",
   "id": "b2196100",
   "metadata": {},
   "source": [
    "## 2. Describe DataFrame.\n"
   ]
  },
  {
   "cell_type": "code",
   "execution_count": null,
   "id": "e637dabd",
   "metadata": {},
   "outputs": [],
   "source": [
    "data.describe().T"
   ]
  },
  {
   "cell_type": "markdown",
   "id": "af5030da",
   "metadata": {},
   "source": [
    "## 3. How a plot of the total number of responses.\n"
   ]
  },
  {
   "cell_type": "code",
   "execution_count": null,
   "id": "9f6210e2",
   "metadata": {},
   "outputs": [],
   "source": [
    "plt.figure(figsize=(16,4))\n",
    "sns.countplot(y='response', data=data)\n",
    "plt.show()"
   ]
  },
  {
   "cell_type": "markdown",
   "id": "d184741b",
   "metadata": {},
   "source": [
    "## 4. Show a plot of the response rate by the sales channel.\n"
   ]
  },
  {
   "cell_type": "code",
   "execution_count": null,
   "id": "cdc0fe41",
   "metadata": {},
   "outputs": [],
   "source": [
    "fig, axs = plt.subplots(2, 2, figsize=(8,8))\n",
    "labels = data['response'].unique()\n",
    "\n",
    "axs[0, 0].pie(data['response'][data['sales_channel'] == 'Agent'].value_counts(), autopct='%1.0f%%', labels=labels)\n",
    "axs[0, 0].set_title('Agent')\n",
    "axs[0, 1].pie(data['response'][data['sales_channel'] == 'Branch'].value_counts(), autopct='%1.0f%%', labels=labels)\n",
    "axs[0, 1].set_title('Branch')\n",
    "axs[1, 0].pie(data['response'][data['sales_channel'] == 'Call Center'].value_counts(), autopct='%1.0f%%', labels=labels)\n",
    "axs[1, 0].set_title('Call Center')\n",
    "axs[1, 1].pie(data['response'][data['sales_channel'] == 'Web'].value_counts(), autopct='%1.0f%%', labels=labels)\n",
    "axs[1, 1].set_title('Web')\n",
    "\n",
    "plt.show()"
   ]
  },
  {
   "cell_type": "markdown",
   "id": "33565e9a",
   "metadata": {},
   "source": [
    "## 5. Show a plot of the response rate by the total claim amount.\n"
   ]
  },
  {
   "cell_type": "code",
   "execution_count": null,
   "id": "de928ab0",
   "metadata": {},
   "outputs": [],
   "source": [
    "plt.figure(figsize=(16,10))\n",
    "sns.histplot(y='total_claim_amount', bins=20, hue='response', multiple='fill', data=data)\n",
    "plt.show()"
   ]
  },
  {
   "cell_type": "markdown",
   "id": "a49d624f",
   "metadata": {},
   "source": [
    "## 6. Show a plot of the response rate by income."
   ]
  },
  {
   "cell_type": "code",
   "execution_count": null,
   "id": "ec6ab3d5",
   "metadata": {},
   "outputs": [],
   "source": [
    "plt.figure(figsize=(16,10))\n",
    "sns.histplot(y='income', bins=10, hue='response', multiple='fill', data=data)\n",
    "plt.show()"
   ]
  },
  {
   "cell_type": "code",
   "execution_count": null,
   "id": "ad48afc0",
   "metadata": {},
   "outputs": [],
   "source": []
  }
 ],
 "metadata": {
  "kernelspec": {
   "display_name": "Python3Brew",
   "language": "python",
   "name": "python3brew"
  },
  "language_info": {
   "codemirror_mode": {
    "name": "ipython",
    "version": 3
   },
   "file_extension": ".py",
   "mimetype": "text/x-python",
   "name": "python",
   "nbconvert_exporter": "python",
   "pygments_lexer": "ipython3",
   "version": "3.9.4"
  }
 },
 "nbformat": 4,
 "nbformat_minor": 5
}
